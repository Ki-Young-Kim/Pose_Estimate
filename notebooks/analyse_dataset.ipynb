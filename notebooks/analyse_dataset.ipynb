{
 "cells": [
  {
   "cell_type": "code",
   "execution_count": 1,
   "id": "1f3a5b7d",
   "metadata": {},
   "outputs": [],
   "source": [
    "import os\n",
    "from pathlib import Path\n",
    "import subprocess\n",
    "import math\n",
    "import random\n",
    "from collections import defaultdict\n",
    "import posixpath\n",
    "import glob"
   ]
  },
  {
   "cell_type": "code",
   "execution_count": 2,
   "id": "ccd942f9",
   "metadata": {},
   "outputs": [],
   "source": [
    "import matplotlib.pyplot as plt\n",
    "import numpy as np\n",
    "import pandas as pd"
   ]
  },
  {
   "cell_type": "code",
   "execution_count": 149,
   "id": "50cb3f95",
   "metadata": {},
   "outputs": [
    {
     "ename": "ModuleNotFoundError",
     "evalue": "No module named 'util'",
     "output_type": "error",
     "traceback": [
      "\u001b[0;31m---------------------------------------------------------------------------\u001b[0m",
      "\u001b[0;31mModuleNotFoundError\u001b[0m                       Traceback (most recent call last)",
      "Cell \u001b[0;32mIn [149], line 1\u001b[0m\n\u001b[0;32m----> 1\u001b[0m \u001b[38;5;28;01mfrom\u001b[39;00m \u001b[38;5;21;01mutil\u001b[39;00m \u001b[38;5;28;01mimport\u001b[39;00m print_pd_table_for_libreoffice\n",
      "\u001b[0;31mModuleNotFoundError\u001b[0m: No module named 'util'"
     ]
    }
   ],
   "source": [
    "from util import print_pd_table_for_libreoffice"
   ]
  },
  {
   "cell_type": "markdown",
   "id": "0829c785",
   "metadata": {},
   "source": [
    "# Batch Analysis"
   ]
  },
  {
   "cell_type": "code",
   "execution_count": 129,
   "id": "06678da1",
   "metadata": {},
   "outputs": [
    {
     "data": {
      "text/plain": [
       "['../batches/mine/train/batch_0512-0768.npz',\n",
       " '../batches/mine/train/batch_1280-1536.npz',\n",
       " '../batches/mine/train/batch_5632-5888.npz',\n",
       " '../batches/mine/train/batch_4352-4608.npz',\n",
       " '../batches/mine/train/batch_4096-4352.npz',\n",
       " '../batches/mine/train/batch_1024-1280.npz',\n",
       " '../batches/mine/train/batch_1536-1792.npz',\n",
       " '../batches/mine/train/batch_3840-4096.npz',\n",
       " '../batches/mine/train/batch_4608-4864.npz',\n",
       " '../batches/mine/train/batch_7168-7424.npz',\n",
       " '../batches/mine/train/batch_6144-6400.npz',\n",
       " '../batches/mine/train/batch_2560-2816.npz',\n",
       " '../batches/mine/train/batch_3328-3584.npz',\n",
       " '../batches/mine/train/batch_8192-8448.npz',\n",
       " '../batches/mine/train/batch_0000-0256.npz',\n",
       " '../batches/mine/train/batch_4864-5120.npz',\n",
       " '../batches/mine/train/batch_6656-6912.npz',\n",
       " '../batches/mine/train/batch_5120-5376.npz',\n",
       " '../batches/mine/train/batch_8960-9216.npz',\n",
       " '../batches/mine/train/batch_7936-8192.npz',\n",
       " '../batches/mine/train/batch_7680-7936.npz',\n",
       " '../batches/mine/train/batch_2304-2560.npz',\n",
       " '../batches/mine/train/batch_8448-8704.npz',\n",
       " '../batches/mine/train/batch_6400-6656.npz',\n",
       " '../batches/mine/train/batch_8704-8960.npz',\n",
       " '../batches/mine/train/batch_5888-6144.npz',\n",
       " '../batches/mine/train/batch_6912-7168.npz',\n",
       " '../batches/mine/train/batch_9216-9472.npz',\n",
       " '../batches/mine/train/batch_3584-3840.npz',\n",
       " '../batches/mine/train/batch_1792-2048.npz',\n",
       " '../batches/mine/train/batch_3072-3328.npz',\n",
       " '../batches/mine/train/batch_2816-3072.npz',\n",
       " '../batches/mine/train/batch_0768-1024.npz',\n",
       " '../batches/mine/train/batch_7424-7680.npz',\n",
       " '../batches/mine/train/batch_5376-5632.npz',\n",
       " '../batches/mine/train/batch_2048-2304.npz',\n",
       " '../batches/mine/train/batch_0256-0512.npz',\n",
       " '../batches/mine/test/batch_0512-0768.npz',\n",
       " '../batches/mine/test/batch_1024-1280.npz',\n",
       " '../batches/mine/test/batch_0000-0256.npz',\n",
       " '../batches/mine/test/batch_0768-1024.npz',\n",
       " '../batches/mine/test/batch_0256-0512.npz',\n",
       " '../batches/mine/validation/batch_0512-0768.npz',\n",
       " '../batches/mine/validation/batch_1280-1536.npz',\n",
       " '../batches/mine/validation/batch_1024-1280.npz',\n",
       " '../batches/mine/validation/batch_1536-1792.npz',\n",
       " '../batches/mine/validation/batch_0000-0256.npz',\n",
       " '../batches/mine/validation/batch_0768-1024.npz',\n",
       " '../batches/mine/validation/batch_0256-0512.npz']"
      ]
     },
     "execution_count": 129,
     "metadata": {},
     "output_type": "execute_result"
    }
   ],
   "source": [
    "batch_paths = glob.glob(\"../batches/mine/**/*.npz\")\n",
    "batch_paths"
   ]
  },
  {
   "cell_type": "code",
   "execution_count": 130,
   "id": "02472544",
   "metadata": {},
   "outputs": [],
   "source": [
    "def get_dset_group(path):\n",
    "    path = path.replace(\"\\\\\", \"/\")\n",
    "    if \"/train/\" in path:\n",
    "        return \"train\"\n",
    "    elif \"/test/\" in path:\n",
    "        return \"test\"\n",
    "    elif \"/validation/\" in path:\n",
    "        return \"validation\"\n",
    "    "
   ]
  },
  {
   "cell_type": "code",
   "execution_count": 131,
   "id": "738b4b41",
   "metadata": {},
   "outputs": [
    {
     "data": {
      "text/plain": [
       "array([[3., 3., 3.],\n",
       "       [4., 5., 6.],\n",
       "       [7., 8., 9.]])"
      ]
     },
     "execution_count": 131,
     "metadata": {},
     "output_type": "execute_result"
    }
   ],
   "source": [
    "a = np.linspace(1, 9, 9).reshape((3, 3))\n",
    "np.maximum(a, 3)"
   ]
  },
  {
   "cell_type": "code",
   "execution_count": 132,
   "id": "25716b66",
   "metadata": {},
   "outputs": [],
   "source": [
    "start_locs = defaultdict(lambda: np.zeros((0, 3)))\n",
    "end_locs = defaultdict(lambda: np.zeros((0, 3)))\n",
    "dists_travelled_motions = defaultdict(lambda: np.zeros((0,)))\n",
    "dists_travelled_windows = defaultdict(lambda: np.zeros((0,)))\n",
    "dists_travelled_frames = defaultdict(lambda: np.zeros((0,)))\n",
    "\n",
    "ws = 24\n",
    "\n",
    "for batch_fp in batch_paths:\n",
    "    grp = get_dset_group(batch_fp)\n",
    "    with np.load(batch_fp) as bb:\n",
    "        dtransl = bb['dtransls']\n",
    "        nframes = bb['nframes']\n",
    "        transl = np.cumsum(dtransl, axis=1)\n",
    "        nb = dtransl.shape[0]\n",
    "        nbrng = np.array(range(nb))\n",
    "        \n",
    "        start_cur = transl[:, 0]\n",
    "        end_cur = transl[nbrng, nframes - 1]\n",
    "        dist_cur = np.linalg.norm(end_cur - start_cur, axis=-1)\n",
    "        \n",
    "        start_locs[grp] = np.concatenate([start_locs[grp], start_cur])\n",
    "        end_locs[grp] = np.concatenate([end_locs[grp], end_cur])\n",
    "        dists_travelled_motions[grp] = np.concatenate([dists_travelled_motions[grp], dist_cur])\n",
    "        \n",
    "        rand = np.random.random((nb, 1))\n",
    "        wstart_inds = (np.maximum(0, nframes - 1 - ws)[:, np.newaxis] * rand).astype(int).flatten()\n",
    "        wend_inds = wstart_inds + ws\n",
    "        \n",
    "        #print(wstart_inds)\n",
    "        #print(nframes)\n",
    "        \n",
    "        dist_w_cur = np.linalg.norm(transl[nbrng, wend_inds] - transl[nbrng, wstart_inds], axis=-1)\n",
    "        dists_travelled_windows[grp] = np.concatenate([dists_travelled_windows[grp], dist_w_cur])\n",
    "        \n",
    "        dist_frm_cur = np.linalg.norm(dtransl[nbrng, wstart_inds], axis=-1)\n",
    "        dists_travelled_frames[grp] = np.concatenate([dists_travelled_frames[grp], dist_frm_cur])"
   ]
  },
  {
   "cell_type": "code",
   "execution_count": 133,
   "id": "9ebea0c9",
   "metadata": {},
   "outputs": [
    {
     "data": {
      "text/plain": [
       "array([[ 0.2149666 ,  0.86172737, -0.02437929],\n",
       "       [ 0.22535357,  0.8515224 , -0.03916353],\n",
       "       [ 1.13859597,  0.98743956,  1.21851803],\n",
       "       [ 0.4499025 ,  0.94938421,  1.18308114],\n",
       "       [ 0.25050154,  0.9421374 ,  0.03439322],\n",
       "       [ 0.53921013,  0.79426941,  0.95166352],\n",
       "       [ 0.2232168 ,  0.93248259, -0.00209716],\n",
       "       [ 0.25033186,  0.91657399,  0.0118898 ],\n",
       "       [ 0.23449883,  0.84288445,  0.00343627],\n",
       "       [ 0.24865984,  0.83967831, -0.01231338]])"
      ]
     },
     "execution_count": 133,
     "metadata": {},
     "output_type": "execute_result"
    }
   ],
   "source": [
    "start_locs['train'][:10]"
   ]
  },
  {
   "cell_type": "code",
   "execution_count": 134,
   "id": "187ad22f",
   "metadata": {},
   "outputs": [
    {
     "data": {
      "text/plain": [
       "array([[ 0.24295877,  0.88296946,  0.01098711],\n",
       "       [ 0.21529266,  0.8824534 , -0.00727721],\n",
       "       [ 1.2362341 ,  0.94390263, -0.95770271],\n",
       "       [ 0.55054514,  0.92918398, -0.98915385],\n",
       "       [ 0.2308685 ,  1.00508446,  0.02702811],\n",
       "       [ 0.54633012,  0.79071576,  0.96729195],\n",
       "       [ 0.21276463,  0.89953041,  0.02281663],\n",
       "       [ 0.24584423,  0.92154026,  0.0350648 ],\n",
       "       [ 0.24955566,  0.87820306,  0.00267481],\n",
       "       [ 0.22430513,  0.93942037, -0.0219228 ]])"
      ]
     },
     "execution_count": 134,
     "metadata": {},
     "output_type": "execute_result"
    }
   ],
   "source": [
    "end_locs['train'][:10]"
   ]
  },
  {
   "cell_type": "code",
   "execution_count": 135,
   "id": "5b6f1ad5",
   "metadata": {},
   "outputs": [
    {
     "data": {
      "text/plain": [
       "array([2.53208801, 3.54542364, 2.2681921 , 3.58164043, 3.54128259,\n",
       "       0.10067275, 0.0675425 , 0.03632084, 0.03238085, 0.02894134])"
      ]
     },
     "execution_count": 135,
     "metadata": {},
     "output_type": "execute_result"
    }
   ],
   "source": [
    "dists_travelled_motions['train'][-10:]"
   ]
  },
  {
   "cell_type": "code",
   "execution_count": 136,
   "id": "ae4cf029",
   "metadata": {},
   "outputs": [
    {
     "data": {
      "text/plain": [
       "array([0.99606428, 1.5047433 , 0.89790716, 1.62633451, 2.54810696,\n",
       "       0.02044783, 0.02378718, 0.05471274, 0.01970734, 0.05018923])"
      ]
     },
     "execution_count": 136,
     "metadata": {},
     "output_type": "execute_result"
    }
   ],
   "source": [
    "dists_travelled_windows['train'][-10:]"
   ]
  },
  {
   "cell_type": "code",
   "execution_count": 137,
   "id": "742dd940",
   "metadata": {},
   "outputs": [
    {
     "data": {
      "text/plain": [
       "array([0.03622381, 0.01611381, 0.03507539, 0.05166196, 0.05507313,\n",
       "       0.01906069, 0.93497848, 0.01661905, 0.0209562 , 0.02052191])"
      ]
     },
     "execution_count": 137,
     "metadata": {},
     "output_type": "execute_result"
    }
   ],
   "source": [
    "dists_travelled_frames['train'][-10:]"
   ]
  },
  {
   "cell_type": "code",
   "execution_count": 138,
   "id": "6bbabfae",
   "metadata": {},
   "outputs": [
    {
     "data": {
      "text/plain": [
       "array([ 0.07677509, -0.00179388, -0.10298842])"
      ]
     },
     "execution_count": 138,
     "metadata": {},
     "output_type": "execute_result"
    }
   ],
   "source": [
    "dtransls[30,10]"
   ]
  },
  {
   "cell_type": "markdown",
   "id": "01f136f7",
   "metadata": {},
   "source": [
    "## Analyse Global Motion"
   ]
  },
  {
   "cell_type": "code",
   "execution_count": 146,
   "id": "94bbe1fe",
   "metadata": {},
   "outputs": [
    {
     "name": "stdout",
     "output_type": "stream",
     "text": [
      "train\n",
      "\tstart_locs_x\tstart_locs_y\tstart_locs_z\tend_locs_x\tend_locs_y\tend_locs_z\tdists_total\tdists_wind\tdists_frames\n",
      "count\t9472.00\t9472.00\t9472.00\t9472.00\t9472.00\t9472.00\t9472.00\t9472.00\t9472.00\n",
      "mean\t0.38\t0.90\t0.35\t0.42\t0.90\t0.09\t0.92\t0.29\t0.03\n",
      "std\t0.55\t0.11\t1.10\t0.56\t0.12\t1.16\t1.26\t0.42\t0.16\n",
      "min\t-2.00\t0.03\t-2.91\t-3.44\t0.09\t-3.04\t0.00\t0.00\t0.00\n",
      "25%\t0.22\t0.86\t-0.10\t0.22\t0.86\t-0.50\t0.04\t0.02\t0.00\n",
      "50%\t0.33\t0.90\t0.04\t0.36\t0.90\t-0.00\t0.21\t0.10\t0.01\n",
      "75%\t0.62\t0.93\t1.00\t0.65\t0.94\t0.42\t1.63\t0.44\t0.02\n",
      "max\t3.14\t1.80\t3.97\t4.31\t1.80\t3.92\t6.47\t3.89\t3.65\n",
      "test\n",
      "\tstart_locs_x\tstart_locs_y\tstart_locs_z\tend_locs_x\tend_locs_y\tend_locs_z\tdists_total\tdists_wind\tdists_frames\n",
      "count\t1280.00\t1280.00\t1280.00\t1280.00\t1280.00\t1280.00\t1280.00\t1280.00\t1280.00\n",
      "mean\t0.09\t0.80\t-0.18\t0.27\t0.80\t-0.25\t0.71\t0.30\t0.03\n",
      "std\t0.84\t0.20\t0.81\t0.84\t0.20\t0.89\t1.85\t0.48\t0.18\n",
      "min\t-3.67\t0.05\t-4.09\t-3.80\t0.05\t-4.18\t0.00\t0.00\t0.00\n",
      "25%\t0.11\t0.83\t-0.40\t0.11\t0.83\t-0.40\t0.03\t0.02\t0.00\n",
      "50%\t0.16\t0.86\t-0.37\t0.18\t0.86\t-0.37\t0.05\t0.11\t0.01\n",
      "75%\t0.24\t0.89\t-0.01\t0.34\t0.89\t-0.00\t0.15\t0.38\t0.02\n",
      "max\t3.83\t1.65\t3.71\t4.62\t0.99\t4.28\t10.01\t3.67\t4.62\n",
      "validation\n",
      "\tstart_locs_x\tstart_locs_y\tstart_locs_z\tend_locs_x\tend_locs_y\tend_locs_z\tdists_total\tdists_wind\tdists_frames\n",
      "count\t1792.00\t1792.00\t1792.00\t1792.00\t1792.00\t1792.00\t1792.00\t1792.00\t1792.00\n",
      "mean\t-0.13\t0.86\t0.21\t-0.13\t0.86\t0.21\t0.07\t0.15\t0.01\n",
      "std\t0.12\t0.05\t0.17\t0.12\t0.06\t0.17\t0.13\t0.22\t0.06\n",
      "min\t-0.86\t0.69\t-1.18\t-0.87\t0.38\t-1.18\t0.00\t0.00\t0.00\n",
      "25%\t-0.21\t0.82\t0.05\t-0.21\t0.82\t0.05\t0.01\t0.01\t0.00\n",
      "50%\t-0.14\t0.85\t0.25\t-0.14\t0.85\t0.25\t0.04\t0.05\t0.00\n",
      "75%\t-0.07\t0.88\t0.31\t-0.07\t0.89\t0.31\t0.08\t0.20\t0.01\n",
      "max\t0.59\t0.98\t1.42\t0.76\t0.99\t1.41\t2.44\t1.58\t1.01\n"
     ]
    }
   ],
   "source": [
    "for dset in start_locs.keys():\n",
    "    stlocs = start_locs[dset]\n",
    "    edlocs = end_locs[dset]\n",
    "    df = pd.DataFrame(data={\n",
    "        'start_locs_x': stlocs[:, 0],\n",
    "        'start_locs_y': stlocs[:, 1],\n",
    "        'start_locs_z': stlocs[:, 2],\n",
    "        'end_locs_x': edlocs[:, 0],\n",
    "        'end_locs_y': edlocs[:, 1],\n",
    "        'end_locs_z': edlocs[:, 2],\n",
    "        'dists_total': dists_travelled_motions[dset],\n",
    "        'dists_wind': dists_travelled_windows[dset],\n",
    "        'dists_frames': dists_travelled_frames[dset]\n",
    "    })\n",
    "    print(dset)\n",
    "    pd.options.display.float_format = '{:.2f}'.format\n",
    "    #display(df.describe())\n",
    "    dfstr = df.describe().to_string()\n",
    "    while \"  \" in dfstr:\n",
    "        dfstr = dfstr.replace(\"  \", \" \")\n",
    "    dfstr = dfstr.replace(\" \", \"\\t\")\n",
    "    print(dfstr)"
   ]
  },
  {
   "cell_type": "code",
   "execution_count": null,
   "id": "204dad5a",
   "metadata": {},
   "outputs": [],
   "source": []
  },
  {
   "cell_type": "markdown",
   "id": "567badb1",
   "metadata": {},
   "source": [
    "# Individual Analysis"
   ]
  },
  {
   "cell_type": "code",
   "execution_count": 7,
   "id": "24fd10fa",
   "metadata": {},
   "outputs": [],
   "source": [
    "qd1_path = \"../batches/qualitative/ACCAD/Male2Running_c3d/C1 - stand to run_poses.npz\"\n",
    "qd2_path = \"../batches/qualitative/DFaust/50009/50009_jumping_jacks_poses.npz\""
   ]
  },
  {
   "cell_type": "code",
   "execution_count": 11,
   "id": "45c85f0c",
   "metadata": {},
   "outputs": [
    {
     "data": {
      "text/plain": [
       "['trans', 'gender', 'mocap_framerate', 'betas', 'dmpls', 'poses']"
      ]
     },
     "execution_count": 11,
     "metadata": {},
     "output_type": "execute_result"
    }
   ],
   "source": [
    "qd1 = np.load(qd1_path)\n",
    "qd2 = np.load(qd2_path)\n",
    "[k for k in qd1.keys()]"
   ]
  },
  {
   "cell_type": "code",
   "execution_count": 12,
   "id": "2f8e4b27",
   "metadata": {},
   "outputs": [
    {
     "name": "stdout",
     "output_type": "stream",
     "text": [
      "qd1 len: 491\n",
      "qd2 len: 190\n"
     ]
    }
   ],
   "source": [
    "print('qd1 len:', qd1['trans'].shape[0])\n",
    "print('qd2 len:', qd2['trans'].shape[0])"
   ]
  },
  {
   "cell_type": "code",
   "execution_count": 15,
   "id": "146d9862",
   "metadata": {},
   "outputs": [
    {
     "name": "stdout",
     "output_type": "stream",
     "text": [
      "qd1 trans up: [0.91671033 0.91660728 0.9164975  0.91640931 0.91635995 0.91447156\n",
      " 0.91410678 0.91388859 0.91374815 0.91362353 0.91354771 0.91355957\n",
      " 0.91362308 0.9135671  0.91343905 0.91333347 0.91330151 0.91332011\n",
      " 0.91332429 0.91334287]\n",
      "qd2 trans up: [0.36650758 0.36643808 0.36647634 0.36675986 0.36734945 0.3681767\n",
      " 0.36954815 0.37133744 0.37335314 0.37536155 0.3771561  0.37842043\n",
      " 0.37917077 0.37925049 0.3787719  0.37790543 0.37648232 0.37465318\n",
      " 0.37228812 0.36925029]\n"
     ]
    }
   ],
   "source": [
    "MAXFRMS = 20\n",
    "print('qd1 trans up:', qd1['trans'][:MAXFRMS, 2])\n",
    "print('qd2 trans up:', qd2['trans'][:MAXFRMS, 2])"
   ]
  },
  {
   "cell_type": "code",
   "execution_count": null,
   "id": "03fcf25f",
   "metadata": {},
   "outputs": [],
   "source": []
  }
 ],
 "metadata": {
  "kernelspec": {
   "display_name": "Python 3 (ipykernel)",
   "language": "python",
   "name": "python3"
  },
  "language_info": {
   "codemirror_mode": {
    "name": "ipython",
    "version": 3
   },
   "file_extension": ".py",
   "mimetype": "text/x-python",
   "name": "python",
   "nbconvert_exporter": "python",
   "pygments_lexer": "ipython3",
   "version": "3.9.2"
  }
 },
 "nbformat": 4,
 "nbformat_minor": 5
}
